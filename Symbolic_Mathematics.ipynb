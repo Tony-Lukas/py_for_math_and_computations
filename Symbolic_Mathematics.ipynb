{
  "nbformat": 4,
  "nbformat_minor": 0,
  "metadata": {
    "colab": {
      "provenance": [],
      "authorship_tag": "ABX9TyNGh79vFI0OOw6/By3DV8Hw",
      "include_colab_link": true
    },
    "kernelspec": {
      "name": "python3",
      "display_name": "Python 3"
    },
    "language_info": {
      "name": "python"
    }
  },
  "cells": [
    {
      "cell_type": "markdown",
      "metadata": {
        "id": "view-in-github",
        "colab_type": "text"
      },
      "source": [
        "<a href=\"https://colab.research.google.com/github/Tony-Lukas/py_for_math_and_computations/blob/main/Symbolic_Mathematics.ipynb\" target=\"_parent\"><img src=\"https://colab.research.google.com/assets/colab-badge.svg\" alt=\"Open In Colab\"/></a>"
      ]
    },
    {
      "cell_type": "code",
      "execution_count": 1,
      "metadata": {
        "id": "1Mcd1Z2gpH3A"
      },
      "outputs": [],
      "source": [
        "import sympy as sym"
      ]
    },
    {
      "cell_type": "code",
      "source": [
        "x = sym.Symbol('x')\n",
        "print(x)"
      ],
      "metadata": {
        "colab": {
          "base_uri": "https://localhost:8080/"
        },
        "id": "USTCfZa2txNc",
        "outputId": "f4ad72cc-308a-4d17-fdab-7e031ef18230"
      },
      "execution_count": null,
      "outputs": [
        {
          "output_type": "stream",
          "name": "stdout",
          "text": [
            "x\n"
          ]
        }
      ]
    },
    {
      "cell_type": "code",
      "source": [
        "a,b  = sym.symbols('a, b')\n",
        "print(a,b)"
      ],
      "metadata": {
        "colab": {
          "base_uri": "https://localhost:8080/"
        },
        "id": "a5z7f8fjt2QV",
        "outputId": "47c7a4e2-83e3-4438-e705-bc62249e7303"
      },
      "execution_count": null,
      "outputs": [
        {
          "output_type": "stream",
          "name": "stdout",
          "text": [
            "a b\n"
          ]
        }
      ]
    },
    {
      "cell_type": "code",
      "source": [
        "a11 ,b2c = sym.symbols('b2c, a11')\n",
        "print(a11)"
      ],
      "metadata": {
        "colab": {
          "base_uri": "https://localhost:8080/"
        },
        "id": "7i_qCnL1t7Yh",
        "outputId": "af76172b-4b42-4824-cbbf-ab5e42583b59"
      },
      "execution_count": null,
      "outputs": [
        {
          "output_type": "stream",
          "name": "stdout",
          "text": [
            "b2c\n"
          ]
        }
      ]
    },
    {
      "cell_type": "code",
      "source": [
        "c = a**2 +b\n",
        "print(c)"
      ],
      "metadata": {
        "colab": {
          "base_uri": "https://localhost:8080/"
        },
        "id": "gpovrKFbuMRy",
        "outputId": "30d6e72d-c06e-4016-e9dd-59fa3b56a03d"
      },
      "execution_count": null,
      "outputs": [
        {
          "output_type": "stream",
          "name": "stdout",
          "text": [
            "a**2 + b\n"
          ]
        }
      ]
    },
    {
      "cell_type": "markdown",
      "source": [
        "$ g = (3x+5)-(\\frac{7x}{3}+2.5)$"
      ],
      "metadata": {
        "id": "xCHJQqgyugh8"
      }
    },
    {
      "cell_type": "code",
      "source": [
        "g = (3*x+5)-(7*x/3+2.5)\n",
        "print(g)"
      ],
      "metadata": {
        "colab": {
          "base_uri": "https://localhost:8080/"
        },
        "id": "MNQlMbwOuZAz",
        "outputId": "ad3ae9c9-8014-496d-d599-04b364a808f8"
      },
      "execution_count": null,
      "outputs": [
        {
          "output_type": "stream",
          "name": "stdout",
          "text": [
            "2*x/3 + 2.5\n"
          ]
        }
      ]
    },
    {
      "cell_type": "markdown",
      "source": [
        "# Algebraic manipulation"
      ],
      "metadata": {
        "id": "Z_XMtazeu5bU"
      }
    },
    {
      "cell_type": "markdown",
      "source": [
        "## Simplify"
      ],
      "metadata": {
        "id": "sjtRvi-my8VI"
      }
    },
    {
      "cell_type": "markdown",
      "source": [
        "Simplify the equation\n",
        "$$\\frac{x^4-7x^3+12x-84}{x-7}$$"
      ],
      "metadata": {
        "id": "klrlgW3ou_aT"
      }
    },
    {
      "cell_type": "code",
      "source": [
        "x = sym.Symbol('x')\n",
        "sym.simplify((x**4 - 7*x**3 + 12*x -84)/(x-7))"
      ],
      "metadata": {
        "colab": {
          "base_uri": "https://localhost:8080/",
          "height": 38
        },
        "id": "EL_m1de9u1Cx",
        "outputId": "4cc7b54f-4396-466b-9208-605dc0bce42b"
      },
      "execution_count": null,
      "outputs": [
        {
          "output_type": "execute_result",
          "data": {
            "text/plain": [
              "x**3 + 12"
            ],
            "text/latex": "$\\displaystyle x^{3} + 12$"
          },
          "metadata": {},
          "execution_count": 7
        }
      ]
    },
    {
      "cell_type": "markdown",
      "source": [
        "Simplify the equation\n",
        "$$\\frac{x-y}{\\frac{1}{x}-\\frac{1}{y}}$$"
      ],
      "metadata": {
        "id": "q0tly3v8vuZ9"
      }
    },
    {
      "cell_type": "code",
      "source": [
        "x,y = sym.symbols('x,y')\n",
        "sym.simplify((x-y)/(1/x-1/y))"
      ],
      "metadata": {
        "colab": {
          "base_uri": "https://localhost:8080/",
          "height": 38
        },
        "id": "aage_LYYvnHj",
        "outputId": "26d265e1-a2b1-4a95-a95f-51084fddae8d"
      },
      "execution_count": null,
      "outputs": [
        {
          "output_type": "execute_result",
          "data": {
            "text/plain": [
              "-x*y"
            ],
            "text/latex": "$\\displaystyle - x y$"
          },
          "metadata": {},
          "execution_count": 8
        }
      ]
    },
    {
      "cell_type": "markdown",
      "source": [
        "$$\\sin^2x+\\cos^2x$$"
      ],
      "metadata": {
        "id": "WaTLqntEwugC"
      }
    },
    {
      "cell_type": "code",
      "source": [
        "sym.simplify(sym.sin(x)**2+sym.cos(x)**2)"
      ],
      "metadata": {
        "colab": {
          "base_uri": "https://localhost:8080/",
          "height": 37
        },
        "id": "2kfYMeftwssF",
        "outputId": "b41e88c0-b0ce-46cf-9577-c928951a0ffd"
      },
      "execution_count": null,
      "outputs": [
        {
          "output_type": "execute_result",
          "data": {
            "text/plain": [
              "1"
            ],
            "text/latex": "$\\displaystyle 1$"
          },
          "metadata": {},
          "execution_count": 9
        }
      ]
    },
    {
      "cell_type": "markdown",
      "source": [
        "$$ \\frac{x \\cos y \\sin x -x \\cos x \\sin y - y \\cos x \\sin y + y \\cos y \\sin x}{x+y}\n",
        "$$"
      ],
      "metadata": {
        "id": "rKrryP0yw6P8"
      }
    },
    {
      "cell_type": "code",
      "source": [
        "sym.simplify((x*sym.cos(y)*sym.sin(x)-x*sym.cos(x)*sym.sin(y)-y*sym.cos(x)*sym.sin(y)+y*sym.cos(y)*sym.sin(x))/(x+y))"
      ],
      "metadata": {
        "colab": {
          "base_uri": "https://localhost:8080/",
          "height": 38
        },
        "id": "hXyvK-rhw3Oz",
        "outputId": "5f606129-74f4-4064-c364-9d436bd5b310"
      },
      "execution_count": null,
      "outputs": [
        {
          "output_type": "execute_result",
          "data": {
            "text/plain": [
              "sin(x - y)"
            ],
            "text/latex": "$\\displaystyle \\sin{\\left(x - y \\right)}$"
          },
          "metadata": {},
          "execution_count": 25
        }
      ]
    },
    {
      "cell_type": "markdown",
      "source": [
        "## Expand"
      ],
      "metadata": {
        "id": "L3AQyqm0y39Y"
      }
    },
    {
      "cell_type": "markdown",
      "source": [
        "$(x^2+3)(x-1)$"
      ],
      "metadata": {
        "id": "0lxJuY92zBQl"
      }
    },
    {
      "cell_type": "code",
      "source": [
        "sym.expand((x**2+3)*(x-1))"
      ],
      "metadata": {
        "colab": {
          "base_uri": "https://localhost:8080/",
          "height": 38
        },
        "id": "HGvrIojMyzh3",
        "outputId": "e0622e39-198d-4741-d134-58dab513de84"
      },
      "execution_count": null,
      "outputs": [
        {
          "output_type": "execute_result",
          "data": {
            "text/plain": [
              "x**3 - x**2 + 3*x - 3"
            ],
            "text/latex": "$\\displaystyle x^{3} - x^{2} + 3 x - 3$"
          },
          "metadata": {},
          "execution_count": 14
        }
      ]
    },
    {
      "cell_type": "markdown",
      "source": [
        "$(x+y)^3$"
      ],
      "metadata": {
        "id": "tNF2c7e5zdid"
      }
    },
    {
      "cell_type": "code",
      "source": [
        "sym.expand((x+y)**3)"
      ],
      "metadata": {
        "colab": {
          "base_uri": "https://localhost:8080/",
          "height": 38
        },
        "id": "jjvKl_M5zNY9",
        "outputId": "7a09e811-ae05-4bdf-84aa-36e44c2587e8"
      },
      "execution_count": null,
      "outputs": [
        {
          "output_type": "execute_result",
          "data": {
            "text/plain": [
              "x**3 + 3*x**2*y + 3*x*y**2 + y**3"
            ],
            "text/latex": "$\\displaystyle x^{3} + 3 x^{2} y + 3 x y^{2} + y^{3}$"
          },
          "metadata": {},
          "execution_count": 16
        }
      ]
    },
    {
      "cell_type": "markdown",
      "source": [
        "## Factor"
      ],
      "metadata": {
        "id": "F_jkxLh1zczG"
      }
    },
    {
      "cell_type": "markdown",
      "source": [
        "$x^2-5x+6$"
      ],
      "metadata": {
        "id": "iZHw_d_-zrDl"
      }
    },
    {
      "cell_type": "code",
      "source": [
        "sym.factor(x**2-5*x+6)"
      ],
      "metadata": {
        "colab": {
          "base_uri": "https://localhost:8080/",
          "height": 38
        },
        "id": "aeJ99PWWzYLl",
        "outputId": "d80c9f0c-4940-47bc-a19d-ea548d38fd07"
      },
      "execution_count": null,
      "outputs": [
        {
          "output_type": "execute_result",
          "data": {
            "text/plain": [
              "(x - 3)*(x - 2)"
            ],
            "text/latex": "$\\displaystyle \\left(x - 3\\right) \\left(x - 2\\right)$"
          },
          "metadata": {},
          "execution_count": 17
        }
      ]
    },
    {
      "cell_type": "markdown",
      "source": [
        "$x^3+5x^2−9x−45$"
      ],
      "metadata": {
        "id": "pb27hDeFz0Hl"
      }
    },
    {
      "cell_type": "code",
      "source": [
        "sym.factor(x**3+5*x**2-9*x-45)"
      ],
      "metadata": {
        "colab": {
          "base_uri": "https://localhost:8080/",
          "height": 38
        },
        "id": "pXj1bT9JzxNX",
        "outputId": "8c7dd1da-d3b5-46e8-931b-b4f9d9598e55"
      },
      "execution_count": null,
      "outputs": [
        {
          "output_type": "execute_result",
          "data": {
            "text/plain": [
              "(x - 3)*(x + 3)*(x + 5)"
            ],
            "text/latex": "$\\displaystyle \\left(x - 3\\right) \\left(x + 3\\right) \\left(x + 5\\right)$"
          },
          "metadata": {},
          "execution_count": 22
        }
      ]
    },
    {
      "cell_type": "markdown",
      "source": [
        "## Collect"
      ],
      "metadata": {
        "id": "FAZzABcm3fl9"
      }
    },
    {
      "cell_type": "markdown",
      "source": [
        "$xy-9xz+5x+12 = x(y-9z+5)+12$"
      ],
      "metadata": {
        "id": "3fH9VQYV3iCs"
      }
    },
    {
      "cell_type": "code",
      "source": [
        "x,y,z = sym.symbols('x,y,z')\n",
        "sym.collect(x*y-9*x*z+5*x+12,x)"
      ],
      "metadata": {
        "colab": {
          "base_uri": "https://localhost:8080/",
          "height": 38
        },
        "id": "oP6W4vtIz9ru",
        "outputId": "57955603-4dd4-4d62-88cd-c8c73213ad51"
      },
      "execution_count": null,
      "outputs": [
        {
          "output_type": "execute_result",
          "data": {
            "text/plain": [
              "x*(y - 9*z + 5) + 12"
            ],
            "text/latex": "$\\displaystyle x \\left(y - 9 z + 5\\right) + 12$"
          },
          "metadata": {},
          "execution_count": 23
        }
      ]
    },
    {
      "cell_type": "markdown",
      "source": [
        "## Cancle\n",
        "$$\\frac{x^2+2x+1}{x^2+x} = \\frac{(x+1)^2}{x(x+1)}=\\frac{x+1}{x}$$"
      ],
      "metadata": {
        "id": "QMEJNb1o5ZLp"
      }
    },
    {
      "cell_type": "code",
      "source": [
        "sym.cancel((x**2+2*x+1)/(x**2+x))"
      ],
      "metadata": {
        "colab": {
          "base_uri": "https://localhost:8080/",
          "height": 51
        },
        "id": "aJzaWdfO4dui",
        "outputId": "543a760b-7b23-4615-d770-6daea4c171ae"
      },
      "execution_count": null,
      "outputs": [
        {
          "output_type": "execute_result",
          "data": {
            "text/plain": [
              "(x + 1)/x"
            ],
            "text/latex": "$\\displaystyle \\frac{x + 1}{x}$"
          },
          "metadata": {},
          "execution_count": 31
        }
      ]
    },
    {
      "cell_type": "markdown",
      "source": [
        "## Apart\n",
        "$$\\frac{x^3+3x^2-x-3}{x^3-x}= 1+\\frac{3}{x}$$"
      ],
      "metadata": {
        "id": "hgQdnfOm7UrI"
      }
    },
    {
      "cell_type": "code",
      "source": [
        "sym.apart((x**3+3*x**2-x-3)/(x**3-x))"
      ],
      "metadata": {
        "colab": {
          "base_uri": "https://localhost:8080/",
          "height": 51
        },
        "id": "DmPfFYrQ7JEb",
        "outputId": "38d949a5-dbc6-4829-c9c0-99adf24bc28e"
      },
      "execution_count": null,
      "outputs": [
        {
          "output_type": "execute_result",
          "data": {
            "text/plain": [
              "1 + 3/x"
            ],
            "text/latex": "$\\displaystyle 1 + \\frac{3}{x}$"
          },
          "metadata": {},
          "execution_count": 33
        }
      ]
    },
    {
      "cell_type": "markdown",
      "source": [
        "$$\\frac{x^3+x^2+8x}{4x+4}=\\frac{x^2}{4}+2+\\frac{2}{x+1}$$"
      ],
      "metadata": {
        "id": "TR0A266E9ACG"
      }
    },
    {
      "cell_type": "code",
      "source": [
        "sym.apart((x**3+x**2+8*x)/(4*x+4))"
      ],
      "metadata": {
        "colab": {
          "base_uri": "https://localhost:8080/",
          "height": 55
        },
        "id": "_3CPvq6-85jJ",
        "outputId": "a0e6ab50-4186-47bc-876b-47e0e65a860d"
      },
      "execution_count": null,
      "outputs": [
        {
          "output_type": "execute_result",
          "data": {
            "text/plain": [
              "x**2/4 + 2 - 2/(x + 1)"
            ],
            "text/latex": "$\\displaystyle \\frac{x^{2}}{4} + 2 - \\frac{2}{x + 1}$"
          },
          "metadata": {},
          "execution_count": 37
        }
      ]
    },
    {
      "cell_type": "markdown",
      "source": [
        "## Simplify  trigonometric functions (`trigosimp`)"
      ],
      "metadata": {
        "id": "cE5yFu3W90zG"
      }
    },
    {
      "cell_type": "markdown",
      "source": [
        "$$\\frac{\\sin x \\tan x}{\\sec x} = \\sin^2x$$"
      ],
      "metadata": {
        "id": "W1tIPxCMtbJV"
      }
    },
    {
      "cell_type": "code",
      "source": [
        "sym.trigsimp(sym.sin(x)*sym.tan(x)/sym.sec(x))"
      ],
      "metadata": {
        "id": "vE5p62oQ9l47",
        "colab": {
          "base_uri": "https://localhost:8080/",
          "height": 59
        },
        "outputId": "c8d08085-209a-4552-d536-7b63d7bb0db7"
      },
      "execution_count": null,
      "outputs": [
        {
          "output_type": "execute_result",
          "data": {
            "text/plain": [
              "sin(x)**2"
            ],
            "text/latex": "$\\displaystyle \\sin^{2}{\\left(x \\right)}$"
          },
          "metadata": {},
          "execution_count": 3
        }
      ]
    },
    {
      "cell_type": "markdown",
      "source": [
        "$$\\sinh^2x + \\cosh^2x = \\cosh(2x)$$"
      ],
      "metadata": {
        "id": "3QCcUsQtuVUs"
      }
    },
    {
      "cell_type": "code",
      "source": [
        "sym.trigsimp(sym.sinh(x)**2+sym.cosh(x)**2)"
      ],
      "metadata": {
        "colab": {
          "base_uri": "https://localhost:8080/",
          "height": 59
        },
        "id": "C5lsWQd_uS2a",
        "outputId": "3dfc0ee7-327a-4000-94ad-03e3d5c18cee"
      },
      "execution_count": null,
      "outputs": [
        {
          "output_type": "execute_result",
          "data": {
            "text/plain": [
              "cosh(2*x)"
            ],
            "text/latex": "$\\displaystyle \\cosh{\\left(2 x \\right)}$"
          },
          "metadata": {},
          "execution_count": 5
        }
      ]
    },
    {
      "cell_type": "markdown",
      "source": [
        "$$\\frac{\\sinh x}{\\tanh x} = \\cosh x$$"
      ],
      "metadata": {
        "id": "-EvLNXuuun2A"
      }
    },
    {
      "cell_type": "code",
      "source": [
        "sym.trigsimp(sym.sinh(x)/sym.tanh(x))"
      ],
      "metadata": {
        "colab": {
          "base_uri": "https://localhost:8080/",
          "height": 59
        },
        "id": "-XRdiNuVuiGR",
        "outputId": "58bf3a78-f661-4369-f890-f6738193dca4"
      },
      "execution_count": null,
      "outputs": [
        {
          "output_type": "execute_result",
          "data": {
            "text/plain": [
              "cosh(x)"
            ],
            "text/latex": "$\\displaystyle \\cosh{\\left(x \\right)}$"
          },
          "metadata": {},
          "execution_count": 6
        }
      ]
    },
    {
      "cell_type": "markdown",
      "source": [
        "## Simplify Power terms (`powsimp`)\n",
        "$$ x^ax^bx^c = x^{a+b+c}$$"
      ],
      "metadata": {
        "id": "wtWBlWgJuzy9"
      }
    },
    {
      "cell_type": "code",
      "source": [
        "x, a, b, c = sym.symbols('x, a, b, c')\n",
        "sym.powsimp(x**a*x**b*x**c)"
      ],
      "metadata": {
        "colab": {
          "base_uri": "https://localhost:8080/",
          "height": 59
        },
        "id": "OHX-05jjux54",
        "outputId": "efc3641f-46d7-42fb-c4d5-fdd4f16a06f2"
      },
      "execution_count": null,
      "outputs": [
        {
          "output_type": "execute_result",
          "data": {
            "text/plain": [
              "x**(a + b + c)"
            ],
            "text/latex": "$\\displaystyle x^{a + b + c}$"
          },
          "metadata": {},
          "execution_count": 8
        }
      ]
    },
    {
      "cell_type": "markdown",
      "source": [
        "# Solving Algebraic Equations\n"
      ],
      "metadata": {
        "id": "Wr_8sITQvrIV"
      }
    },
    {
      "cell_type": "markdown",
      "source": [
        "## single variable\n",
        "$$3x-7=0$$"
      ],
      "metadata": {
        "id": "uOKhkaYuvyy-"
      }
    },
    {
      "cell_type": "code",
      "source": [
        "sym.solve('3*x-7')"
      ],
      "metadata": {
        "colab": {
          "base_uri": "https://localhost:8080/"
        },
        "id": "o8UL_oiXvdmO",
        "outputId": "c10e2823-3675-4cf3-8b31-168ded5f6dd9"
      },
      "execution_count": null,
      "outputs": [
        {
          "output_type": "execute_result",
          "data": {
            "text/plain": [
              "[7/3]"
            ]
          },
          "metadata": {},
          "execution_count": 11
        }
      ]
    },
    {
      "cell_type": "code",
      "source": [
        "sym.solve(3*x-7,x)"
      ],
      "metadata": {
        "colab": {
          "base_uri": "https://localhost:8080/"
        },
        "id": "CI8ZHxQXv-jL",
        "outputId": "0be06ff4-e433-4975-e188-00c52b8a15b4"
      },
      "execution_count": null,
      "outputs": [
        {
          "output_type": "execute_result",
          "data": {
            "text/plain": [
              "[7/3]"
            ]
          },
          "metadata": {},
          "execution_count": 12
        }
      ]
    },
    {
      "cell_type": "markdown",
      "source": [
        "$$\\sin x -\\cos x = 0$$"
      ],
      "metadata": {
        "id": "DcTyb280wIgC"
      }
    },
    {
      "cell_type": "code",
      "source": [
        "sym.solve(sym.sin(x)-sym.cos(x),x)"
      ],
      "metadata": {
        "colab": {
          "base_uri": "https://localhost:8080/"
        },
        "id": "hmXK0US1wHa8",
        "outputId": "daa5cb32-7d4e-41df-c042-3bd3f1b938b8"
      },
      "execution_count": null,
      "outputs": [
        {
          "output_type": "execute_result",
          "data": {
            "text/plain": [
              "[pi/4]"
            ]
          },
          "metadata": {},
          "execution_count": 14
        }
      ]
    },
    {
      "cell_type": "markdown",
      "source": [
        "## more than one variable\n",
        "$$\n",
        "\\begin{align}\n",
        "g = 3x^2+2t-8 &= 0\\\\\n",
        "3x^2 &= 8-2t\\\\\n",
        "x ^2 &= \\frac{8-2t}{3}\\\\\n",
        "x &= \\pm\\sqrt{\\frac{8-2t}{3}} \\\\\n",
        "&= \\pm \\frac{\\sqrt{8-2t}}{\\sqrt{3}} \\times \\frac{\\sqrt{3}}{\\sqrt{3}} \\\\\n",
        "&= \\pm\\frac{\\sqrt{24-6t}}{3}\n",
        "\\end{align}\n",
        "$$"
      ],
      "metadata": {
        "id": "XHOrJHVawk9-"
      }
    },
    {
      "cell_type": "code",
      "source": [
        "x, t = sym.symbols('x,t')\n",
        "g = 3*x**2 +2*t -8\n",
        "sym.solve(g,x)"
      ],
      "metadata": {
        "colab": {
          "base_uri": "https://localhost:8080/"
        },
        "id": "wMsVvtb5wQvF",
        "outputId": "5a6171d5-a1d4-49b4-f2bb-2eb8acb19801"
      },
      "execution_count": null,
      "outputs": [
        {
          "output_type": "execute_result",
          "data": {
            "text/plain": [
              "[-sqrt(24 - 6*t)/3, sqrt(24 - 6*t)/3]"
            ]
          },
          "metadata": {},
          "execution_count": 15
        }
      ]
    },
    {
      "cell_type": "markdown",
      "source": [
        "$$\n",
        "\\begin{align}\n",
        "g = 3x^2+2t-8 &= 0\\\\\n",
        "2t &= 8-3x^2 \\\\\n",
        "t &= \\frac{8-3x^2}{2} \\\\\n",
        "&= 4-\\frac{3x^2}{2}\n",
        "\\end{align}\n",
        "$$"
      ],
      "metadata": {
        "id": "ta5JN8eSyv4P"
      }
    },
    {
      "cell_type": "code",
      "source": [
        "sym.solve(g,t)"
      ],
      "metadata": {
        "colab": {
          "base_uri": "https://localhost:8080/"
        },
        "id": "zf7G0VRTyc0y",
        "outputId": "4ebba24d-d1a1-49e3-c63c-f9b123721f93"
      },
      "execution_count": null,
      "outputs": [
        {
          "output_type": "execute_result",
          "data": {
            "text/plain": [
              "[4 - 3*x**2/2]"
            ]
          },
          "metadata": {},
          "execution_count": 16
        }
      ]
    },
    {
      "cell_type": "markdown",
      "source": [
        "## set of equations\n",
        "$$\n",
        "f_1 = 3x-7y+t = 0 \\\\\n",
        "f_2 = 5x+2y -12t = 0\n",
        "$$"
      ],
      "metadata": {
        "id": "0J08df991CqL"
      }
    },
    {
      "cell_type": "code",
      "source": [
        "x,y ,t = sym.symbols('x,y,t')\n",
        "f1 = 3*x-7*y+t\n",
        "f2 = 5*x+2*y-12*t\n",
        "sym.solve([f1,f2],[x,y])"
      ],
      "metadata": {
        "colab": {
          "base_uri": "https://localhost:8080/"
        },
        "id": "M6YCiOo6ytxy",
        "outputId": "f43eb77a-6382-4e19-847b-1acfcd5a4386"
      },
      "execution_count": null,
      "outputs": [
        {
          "output_type": "execute_result",
          "data": {
            "text/plain": [
              "{x: 2*t, y: t}"
            ]
          },
          "metadata": {},
          "execution_count": 18
        }
      ]
    },
    {
      "cell_type": "code",
      "source": [
        "sym.solve([f1,f2],[y,t])"
      ],
      "metadata": {
        "colab": {
          "base_uri": "https://localhost:8080/"
        },
        "id": "vFonK-6s1Yd-",
        "outputId": "73d1174d-6c67-4e08-b226-2b0c7cdad7f2"
      },
      "execution_count": null,
      "outputs": [
        {
          "output_type": "execute_result",
          "data": {
            "text/plain": [
              "{t: x/2, y: x/2}"
            ]
          },
          "metadata": {},
          "execution_count": 19
        }
      ]
    },
    {
      "cell_type": "markdown",
      "source": [
        "$$\n",
        "5x-3y+2z = 5 \\\\\n",
        "8x+4y-3z = 7 \\\\\n",
        "3x - 2y +4z = 11\n",
        "$$"
      ],
      "metadata": {
        "id": "U62TNXRG3Kkz"
      }
    },
    {
      "cell_type": "code",
      "source": [
        "x, y, z = sym.symbols('x,y,z')\n",
        "f1 = 5*x - 3*y + 2*z -5\n",
        "f2 = 8*x + 4*y - 3*z -7\n",
        "f3 = 3*x - 2*y + 4*z -11\n",
        "sym.solve([f1,f2,f3],[x,y,z])"
      ],
      "metadata": {
        "colab": {
          "base_uri": "https://localhost:8080/"
        },
        "id": "GbbQPY8h26Fn",
        "outputId": "6543ed33-d920-453c-8df3-88959d752291"
      },
      "execution_count": null,
      "outputs": [
        {
          "output_type": "execute_result",
          "data": {
            "text/plain": [
              "{x: 1, y: 2, z: 3}"
            ]
          },
          "metadata": {},
          "execution_count": 20
        }
      ]
    },
    {
      "cell_type": "markdown",
      "source": [
        "# Differentiation and Integration"
      ],
      "metadata": {
        "id": "8WaDCIH94W8W"
      }
    },
    {
      "cell_type": "markdown",
      "source": [
        "$$f = 3x^2+7x\\\\\n",
        "\\frac{df}{dx} = 6x+7\n",
        "$$"
      ],
      "metadata": {
        "id": "XvzOPPWX4fiu"
      }
    },
    {
      "cell_type": "code",
      "source": [
        "f= 3*x**2 + 7*x\n",
        "f_prime = sym.diff(f,x)\n",
        "print(f_prime)"
      ],
      "metadata": {
        "colab": {
          "base_uri": "https://localhost:8080/"
        },
        "id": "Mmsfkj3N30ym",
        "outputId": "2941b6b5-361c-4d01-9f23-3a3e3a7729c5"
      },
      "execution_count": null,
      "outputs": [
        {
          "output_type": "stream",
          "name": "stdout",
          "text": [
            "6*x + 7\n"
          ]
        }
      ]
    },
    {
      "cell_type": "code",
      "source": [
        "f_double_prime = sym.diff(f_prime,x)\n",
        "print(f_double_prime)"
      ],
      "metadata": {
        "colab": {
          "base_uri": "https://localhost:8080/"
        },
        "id": "kIzwZWOd52U3",
        "outputId": "05334fb5-17f5-47e9-e10a-e80bc06ec9ba"
      },
      "execution_count": null,
      "outputs": [
        {
          "output_type": "stream",
          "name": "stdout",
          "text": [
            "6\n"
          ]
        }
      ]
    },
    {
      "cell_type": "code",
      "source": [
        "print(sym.diff(f,x,2))"
      ],
      "metadata": {
        "colab": {
          "base_uri": "https://localhost:8080/"
        },
        "id": "Z32m4GDm82Jv",
        "outputId": "a383ea37-a4e8-4c1b-c092-572abd0d5f06"
      },
      "execution_count": null,
      "outputs": [
        {
          "output_type": "stream",
          "name": "stdout",
          "text": [
            "6\n"
          ]
        }
      ]
    },
    {
      "cell_type": "markdown",
      "source": [
        "$$g = 4\\sin x +e^{3t}\\\\\n",
        "\\frac{dg}{dx} = ?$$"
      ],
      "metadata": {
        "id": "_XDx1qlD447u"
      }
    },
    {
      "cell_type": "code",
      "source": [
        "x, t = sym.symbols('x, t')\n",
        "g = 4* sym.sin(x) + sym.exp(3*t)\n",
        "sym.diff(g,x)"
      ],
      "metadata": {
        "colab": {
          "base_uri": "https://localhost:8080/",
          "height": 59
        },
        "id": "M9QySxs442Vi",
        "outputId": "8677a9e4-00fa-4350-dfdc-4e21c16490b7"
      },
      "execution_count": null,
      "outputs": [
        {
          "output_type": "execute_result",
          "data": {
            "text/plain": [
              "4*cos(x)"
            ],
            "text/latex": "$\\displaystyle 4 \\cos{\\left(x \\right)}$"
          },
          "metadata": {},
          "execution_count": 22
        }
      ]
    },
    {
      "cell_type": "code",
      "source": [
        "sym.diff(g,t)"
      ],
      "metadata": {
        "colab": {
          "base_uri": "https://localhost:8080/",
          "height": 59
        },
        "id": "rr7RZQgb5OPu",
        "outputId": "3701cbb2-7e87-4ea1-a4db-0def3df2a352"
      },
      "execution_count": null,
      "outputs": [
        {
          "output_type": "execute_result",
          "data": {
            "text/plain": [
              "3*exp(3*t)"
            ],
            "text/latex": "$\\displaystyle 3 e^{3 t}$"
          },
          "metadata": {},
          "execution_count": 23
        }
      ]
    },
    {
      "cell_type": "markdown",
      "source": [
        "If $y=2\\sin x+ \\cos 2x$ , then Show that\n",
        "$$\\frac{d^2y}{dx^2} +y = -3\\cos2x$$"
      ],
      "metadata": {
        "id": "YyJbw_rG76mI"
      }
    },
    {
      "cell_type": "code",
      "source": [
        "y = 2*sym.sin(x) + sym.cos(2*x)\n",
        "\n",
        "y_double_prime = sym.diff(y,x,2)\n",
        "\n",
        "print(y_double_prime)"
      ],
      "metadata": {
        "colab": {
          "base_uri": "https://localhost:8080/"
        },
        "id": "CLVX4TBe5WuK",
        "outputId": "2ac70908-e07c-4777-ed85-6edca5b94013"
      },
      "execution_count": null,
      "outputs": [
        {
          "output_type": "stream",
          "name": "stdout",
          "text": [
            "-2*(sin(x) + 2*cos(2*x))\n"
          ]
        }
      ]
    },
    {
      "cell_type": "code",
      "source": [
        "sym.simplify(y_double_prime + y)"
      ],
      "metadata": {
        "colab": {
          "base_uri": "https://localhost:8080/",
          "height": 59
        },
        "id": "1oWie5po8Wz2",
        "outputId": "bad7bcdf-8fcc-47ce-bbd9-43e762cf77a0"
      },
      "execution_count": null,
      "outputs": [
        {
          "output_type": "execute_result",
          "data": {
            "text/plain": [
              "-3*cos(2*x)"
            ],
            "text/latex": "$\\displaystyle - 3 \\cos{\\left(2 x \\right)}$"
          },
          "metadata": {},
          "execution_count": 34
        }
      ]
    },
    {
      "cell_type": "markdown",
      "source": [
        "## Integrate"
      ],
      "metadata": {
        "id": "9riObgAt9jkd"
      }
    },
    {
      "cell_type": "markdown",
      "source": [
        "$$\\int x \\cos x dx = x\\sin x + \\cos x$$"
      ],
      "metadata": {
        "id": "08ryHP8C93tC"
      }
    },
    {
      "cell_type": "code",
      "source": [
        "sym.integrate(x*sym.cos(x),x)"
      ],
      "metadata": {
        "colab": {
          "base_uri": "https://localhost:8080/",
          "height": 59
        },
        "id": "Lb7MJ5498uOD",
        "outputId": "5b913b83-7452-4f7e-fc47-51fa2b039787"
      },
      "execution_count": null,
      "outputs": [
        {
          "output_type": "execute_result",
          "data": {
            "text/plain": [
              "x*sin(x) + cos(x)"
            ],
            "text/latex": "$\\displaystyle x \\sin{\\left(x \\right)} + \\cos{\\left(x \\right)}$"
          },
          "metadata": {},
          "execution_count": 35
        }
      ]
    },
    {
      "cell_type": "markdown",
      "source": [
        "$$F = 9x^2-3\\sin x + 2 e^{2x}\\\\\n",
        "\\int F dx = ?\n",
        "$$"
      ],
      "metadata": {
        "id": "BBxdpf6D-LtB"
      }
    },
    {
      "cell_type": "code",
      "source": [
        "F = 9*x**2 -3* sym.sin(x) +2*sym.exp(2*x)\n",
        "sym.integrate(F,x)"
      ],
      "metadata": {
        "colab": {
          "base_uri": "https://localhost:8080/",
          "height": 59
        },
        "id": "2iGJQLm--Dps",
        "outputId": "082f3c89-6b5b-4b95-bfb0-e2ad6d7f5be6"
      },
      "execution_count": null,
      "outputs": [
        {
          "output_type": "execute_result",
          "data": {
            "text/plain": [
              "3*x**3 + exp(2*x) + 3*cos(x)"
            ],
            "text/latex": "$\\displaystyle 3 x^{3} + e^{2 x} + 3 \\cos{\\left(x \\right)}$"
          },
          "metadata": {},
          "execution_count": 36
        }
      ]
    },
    {
      "cell_type": "markdown",
      "source": [
        "$$\\int_0^\\pi (5x^2-\\cos x)dx = ?$$"
      ],
      "metadata": {
        "id": "9eoka3MA-tSW"
      }
    },
    {
      "cell_type": "code",
      "source": [
        "F = 5*x**2 - sym.cos(x)\n",
        "result = sym.integrate(F,(x,0,sym.pi))\n",
        "print(result)"
      ],
      "metadata": {
        "colab": {
          "base_uri": "https://localhost:8080/"
        },
        "id": "LEbbi2Xi-g6c",
        "outputId": "c172b213-2024-44f6-e3c5-c2894a6cdba2"
      },
      "execution_count": null,
      "outputs": [
        {
          "output_type": "stream",
          "name": "stdout",
          "text": [
            "5*pi**3/3\n"
          ]
        }
      ]
    },
    {
      "cell_type": "code",
      "source": [
        "int_F = sym.integrate(F,x)\n",
        "result = int_F.subs(x,sym.pi)-int_F.subs(x,0)\n",
        "print(result)"
      ],
      "metadata": {
        "colab": {
          "base_uri": "https://localhost:8080/"
        },
        "id": "2dQVbdyD_K74",
        "outputId": "a6649fb6-567a-4bee-a12a-0156501afd6b"
      },
      "execution_count": null,
      "outputs": [
        {
          "output_type": "stream",
          "name": "stdout",
          "text": [
            "5*pi**3/3\n"
          ]
        }
      ]
    },
    {
      "cell_type": "markdown",
      "source": [
        "# Solving Differential Equations"
      ],
      "metadata": {
        "id": "yr01ndWv_uCO"
      }
    },
    {
      "cell_type": "markdown",
      "source": [
        "$$\\frac{dy}{dx} +y -3 = 0$$"
      ],
      "metadata": {
        "id": "UipG2KQO_ydc"
      }
    },
    {
      "cell_type": "code",
      "source": [
        "x = sym.Symbol('x')\n",
        "y = sym.Function('y')\n",
        "print(y(x))"
      ],
      "metadata": {
        "colab": {
          "base_uri": "https://localhost:8080/"
        },
        "id": "GsW79UxO_ZXq",
        "outputId": "957a4717-f5ab-4231-fefa-7f324ac1bc01"
      },
      "execution_count": null,
      "outputs": [
        {
          "output_type": "stream",
          "name": "stdout",
          "text": [
            "y(x)\n"
          ]
        }
      ]
    },
    {
      "cell_type": "code",
      "source": [
        "ode = sym.Eq(y(x).diff(x) +y(x) - 3,0)\n",
        "ode"
      ],
      "metadata": {
        "colab": {
          "base_uri": "https://localhost:8080/",
          "height": 72
        },
        "id": "8h-84vpkACWW",
        "outputId": "6b8620b6-b4a0-45fe-876e-282c1907d327"
      },
      "execution_count": null,
      "outputs": [
        {
          "output_type": "execute_result",
          "data": {
            "text/plain": [
              "Eq(y(x) + Derivative(y(x), x) - 3, 0)"
            ],
            "text/latex": "$\\displaystyle y{\\left(x \\right)} + \\frac{d}{d x} y{\\left(x \\right)} - 3 = 0$"
          },
          "metadata": {},
          "execution_count": 44
        }
      ]
    },
    {
      "cell_type": "code",
      "source": [
        "sym.dsolve(ode,y(x))"
      ],
      "metadata": {
        "colab": {
          "base_uri": "https://localhost:8080/",
          "height": 59
        },
        "id": "iPUbsLfVAOGk",
        "outputId": "717f460d-2348-41cb-a1f6-6e6a632cabb4"
      },
      "execution_count": null,
      "outputs": [
        {
          "output_type": "execute_result",
          "data": {
            "text/plain": [
              "Eq(y(x), C1*exp(-x) + 3)"
            ],
            "text/latex": "$\\displaystyle y{\\left(x \\right)} = C_{1} e^{- x} + 3$"
          },
          "metadata": {},
          "execution_count": 45
        }
      ]
    },
    {
      "cell_type": "markdown",
      "source": [
        "### Example 2\n",
        "$$\\frac{dy}{dx} = 2y +4x$$"
      ],
      "metadata": {
        "id": "pU4vXs7EAsGR"
      }
    },
    {
      "cell_type": "code",
      "source": [
        "ode = sym.Eq(y(x).diff(x) , 2*y(x) + 4*x)\n",
        "ode"
      ],
      "metadata": {
        "colab": {
          "base_uri": "https://localhost:8080/",
          "height": 72
        },
        "id": "gcDKJJwWAczl",
        "outputId": "190b4411-0afd-4818-80bb-4d714781f9ac"
      },
      "execution_count": null,
      "outputs": [
        {
          "output_type": "execute_result",
          "data": {
            "text/plain": [
              "Eq(Derivative(y(x), x), 4*x + 2*y(x))"
            ],
            "text/latex": "$\\displaystyle \\frac{d}{d x} y{\\left(x \\right)} = 4 x + 2 y{\\left(x \\right)}$"
          },
          "metadata": {},
          "execution_count": 46
        }
      ]
    },
    {
      "cell_type": "code",
      "source": [
        "sym.dsolve(ode,y(x))"
      ],
      "metadata": {
        "colab": {
          "base_uri": "https://localhost:8080/",
          "height": 59
        },
        "id": "iFE3Re0hBBeV",
        "outputId": "fe5ffdab-bb91-4615-befe-183df6746ff4"
      },
      "execution_count": null,
      "outputs": [
        {
          "output_type": "execute_result",
          "data": {
            "text/plain": [
              "Eq(y(x), C1*exp(2*x) - 2*x - 1)"
            ],
            "text/latex": "$\\displaystyle y{\\left(x \\right)} = C_{1} e^{2 x} - 2 x - 1$"
          },
          "metadata": {},
          "execution_count": 48
        }
      ]
    },
    {
      "cell_type": "code",
      "source": [
        "print(sym.dsolve(ode,y(x)))"
      ],
      "metadata": {
        "colab": {
          "base_uri": "https://localhost:8080/"
        },
        "id": "hoDVFGKxBJiY",
        "outputId": "73b160ad-9c86-41e3-cc7f-caafd7ba8703"
      },
      "execution_count": null,
      "outputs": [
        {
          "output_type": "stream",
          "name": "stdout",
          "text": [
            "Eq(y(x), C1*exp(2*x) - 2*x - 1)\n"
          ]
        }
      ]
    },
    {
      "cell_type": "markdown",
      "source": [
        "## second order differential equations\n",
        "$$\\frac{d^2y}{dx^2}-4y = 0$$"
      ],
      "metadata": {
        "id": "s_c3TeiVBfsI"
      }
    },
    {
      "cell_type": "code",
      "source": [
        "x = sym.Symbol('x')\n",
        "y = sym.Function('y')\n",
        "ode = sym.Eq(y(x).diff(x,2) -4*y(x),0)\n",
        "print(ode)\n",
        "print()\n",
        "\n",
        "print(sym.dsolve(ode,y(x)))"
      ],
      "metadata": {
        "colab": {
          "base_uri": "https://localhost:8080/"
        },
        "id": "Zrq56LxKBbNb",
        "outputId": "4b4002ad-b79f-432e-9589-392e6443c114"
      },
      "execution_count": null,
      "outputs": [
        {
          "output_type": "stream",
          "name": "stdout",
          "text": [
            "Eq(-4*y(x) + Derivative(y(x), (x, 2)), 0)\n",
            "\n",
            "Eq(y(x), C1*exp(-2*x) + C2*exp(2*x))\n"
          ]
        }
      ]
    },
    {
      "cell_type": "markdown",
      "source": [
        "solve the equation\n",
        "$$\\frac{dy}{dx} + 2y = 4$$\n",
        "if $y(0) = 1$"
      ],
      "metadata": {
        "id": "etT6GZsIC6cr"
      }
    },
    {
      "cell_type": "code",
      "source": [
        "x = sym.Symbol('x')\n",
        "y = sym.Function('y')\n",
        "ode = sym.Eq(y(x).diff(x) + 2*y(x),4)\n",
        "ode"
      ],
      "metadata": {
        "colab": {
          "base_uri": "https://localhost:8080/",
          "height": 72
        },
        "id": "LY8fiJ0eB020",
        "outputId": "772deca8-a9c2-48ab-8ddd-1cb653143db2"
      },
      "execution_count": null,
      "outputs": [
        {
          "output_type": "execute_result",
          "data": {
            "text/plain": [
              "Eq(2*y(x) + Derivative(y(x), x), 4)"
            ],
            "text/latex": "$\\displaystyle 2 y{\\left(x \\right)} + \\frac{d}{d x} y{\\left(x \\right)} = 4$"
          },
          "metadata": {},
          "execution_count": 52
        }
      ]
    },
    {
      "cell_type": "code",
      "source": [
        "sym.dsolve(ode,y(x),ics={y(0):1})"
      ],
      "metadata": {
        "colab": {
          "base_uri": "https://localhost:8080/",
          "height": 59
        },
        "id": "vFepwyqMDPqI",
        "outputId": "11fc4d48-471a-47f6-ed01-fb0ba978cad0"
      },
      "execution_count": null,
      "outputs": [
        {
          "output_type": "execute_result",
          "data": {
            "text/plain": [
              "Eq(y(x), 2 - exp(-2*x))"
            ],
            "text/latex": "$\\displaystyle y{\\left(x \\right)} = 2 - e^{- 2 x}$"
          },
          "metadata": {},
          "execution_count": 56
        }
      ]
    },
    {
      "cell_type": "markdown",
      "source": [
        "### Example 2\n",
        "solve $$\\frac{d^2y}{dx^2}+2\\frac{dy}{dx} + 5y = 0$$\n",
        "if $y(0) = 3$ and $\\frac{dy}{dx}(0) = -2$"
      ],
      "metadata": {
        "id": "gOLi_YE4EdTe"
      }
    },
    {
      "cell_type": "code",
      "source": [
        "x = sym.Symbol('x')\n",
        "y = sym.Function('y')\n",
        "\n",
        "ode = sym.Eq(y(x).diff(x,2) + 2*y(x).diff(x) + 5*y(x),0)\n",
        "ode"
      ],
      "metadata": {
        "colab": {
          "base_uri": "https://localhost:8080/",
          "height": 74
        },
        "id": "25FzFlX4EX1w",
        "outputId": "9cab946b-9c53-4ee2-f96a-4adfe130f43a"
      },
      "execution_count": null,
      "outputs": [
        {
          "output_type": "execute_result",
          "data": {
            "text/plain": [
              "Eq(5*y(x) + 2*Derivative(y(x), x) + Derivative(y(x), (x, 2)), 0)"
            ],
            "text/latex": "$\\displaystyle 5 y{\\left(x \\right)} + 2 \\frac{d}{d x} y{\\left(x \\right)} + \\frac{d^{2}}{d x^{2}} y{\\left(x \\right)} = 0$"
          },
          "metadata": {},
          "execution_count": 57
        }
      ]
    },
    {
      "cell_type": "code",
      "source": [
        "solution = sym.dsolve(ode, y(x) , ics={y(0):3,\n",
        "                            y(x).diff(x).subs(x,0):-2}\n",
        ")\n",
        "solution"
      ],
      "metadata": {
        "colab": {
          "base_uri": "https://localhost:8080/",
          "height": 78
        },
        "id": "DCj0PoKbFAyr",
        "outputId": "ecc78a04-ad01-4a37-c8ee-183b042eab39"
      },
      "execution_count": null,
      "outputs": [
        {
          "output_type": "execute_result",
          "data": {
            "text/plain": [
              "Eq(y(x), (sin(2*x)/2 + 3*cos(2*x))*exp(-x))"
            ],
            "text/latex": "$\\displaystyle y{\\left(x \\right)} = \\left(\\frac{\\sin{\\left(2 x \\right)}}{2} + 3 \\cos{\\left(2 x \\right)}\\right) e^{- x}$"
          },
          "metadata": {},
          "execution_count": 59
        }
      ]
    },
    {
      "cell_type": "code",
      "source": [
        "print(solution)"
      ],
      "metadata": {
        "colab": {
          "base_uri": "https://localhost:8080/"
        },
        "id": "ylhzWMWzFP1E",
        "outputId": "1aa4a1c2-f3fe-4fce-c151-dc410f73ca1a"
      },
      "execution_count": null,
      "outputs": [
        {
          "output_type": "stream",
          "name": "stdout",
          "text": [
            "Eq(y(x), (sin(2*x)/2 + 3*cos(2*x))*exp(-x))\n"
          ]
        }
      ]
    },
    {
      "cell_type": "markdown",
      "source": [
        "### None linear equation\n",
        "$$\\frac{dy}{dx} +2xy^2 = 0\\\\y(0) = 1$$"
      ],
      "metadata": {
        "id": "i9kzde0gFhLr"
      }
    },
    {
      "cell_type": "code",
      "source": [
        "x = sym.Symbol('x')\n",
        "y = sym.Function('y')\n",
        "\n",
        "ode = sym.Eq(y(x).diff(x) + 2*x*y(x)**2,0)\n",
        "sym.dsolve(ode,y(x),ics={y(0):1})"
      ],
      "metadata": {
        "colab": {
          "base_uri": "https://localhost:8080/",
          "height": 72
        },
        "id": "difyz3vaFVlu",
        "outputId": "6eae75a5-a3c3-49c8-d5d9-439dff47b2ab"
      },
      "execution_count": null,
      "outputs": [
        {
          "output_type": "execute_result",
          "data": {
            "text/plain": [
              "Eq(y(x), 1/(x**2 + 1))"
            ],
            "text/latex": "$\\displaystyle y{\\left(x \\right)} = \\frac{1}{x^{2} + 1}$"
          },
          "metadata": {},
          "execution_count": 63
        }
      ]
    },
    {
      "cell_type": "code",
      "source": [
        "#check\n",
        "f = 1/(x**2+1)\n",
        "sym.diff(f,x)+2*x*f**2"
      ],
      "metadata": {
        "colab": {
          "base_uri": "https://localhost:8080/",
          "height": 57
        },
        "id": "iQTYaBftbmZ9",
        "outputId": "31693b89-5cbf-4e0f-bb4a-353375d8c8c2"
      },
      "execution_count": null,
      "outputs": [
        {
          "output_type": "execute_result",
          "data": {
            "text/plain": [
              "0"
            ],
            "text/latex": "$\\displaystyle 0$"
          },
          "metadata": {},
          "execution_count": 64
        }
      ]
    },
    {
      "cell_type": "markdown",
      "source": [
        "## Boundary Value Problem\n",
        "$$\\frac{d^2y}{dx^2} = 6x \\qquad  0\\le x \\le 1 \\\\\n",
        "y(0) = 0 \\quad ,\\quad y(1) = 2\n",
        "$$"
      ],
      "metadata": {
        "id": "3P1hazkyc3pf"
      }
    },
    {
      "cell_type": "code",
      "source": [
        "x = sym.Symbol('x')\n",
        "y = sym.Function('y')\n",
        "\n",
        "ode = sym.Eq(y(x).diff(x,2),6*x)\n",
        "sol = sym.dsolve(ode,y(x),ics={y(0):0,y(1):2})\n",
        "sol"
      ],
      "metadata": {
        "colab": {
          "base_uri": "https://localhost:8080/",
          "height": 59
        },
        "id": "jcqZrNDNcvdw",
        "outputId": "6ce69b87-a4c4-4d67-a4e9-f691a1b5d9d9"
      },
      "execution_count": null,
      "outputs": [
        {
          "output_type": "execute_result",
          "data": {
            "text/plain": [
              "Eq(y(x), x**3 + x)"
            ],
            "text/latex": "$\\displaystyle y{\\left(x \\right)} = x^{3} + x$"
          },
          "metadata": {},
          "execution_count": 65
        }
      ]
    },
    {
      "cell_type": "code",
      "source": [
        "sym.factor(sol)"
      ],
      "metadata": {
        "colab": {
          "base_uri": "https://localhost:8080/",
          "height": 59
        },
        "id": "Ty0_vQikeTJh",
        "outputId": "5dacda72-1f70-4426-dc88-486240cb9c58"
      },
      "execution_count": null,
      "outputs": [
        {
          "output_type": "execute_result",
          "data": {
            "text/plain": [
              "Eq(y(x), x*(x**2 + 1))"
            ],
            "text/latex": "$\\displaystyle y{\\left(x \\right)} = x \\left(x^{2} + 1\\right)$"
          },
          "metadata": {},
          "execution_count": 66
        }
      ]
    },
    {
      "cell_type": "markdown",
      "source": [
        "---\n",
        "$$\n",
        "2\\frac{d^2y}{dx^2}+\\frac{dy}{dx}+4y = 4x^2+2x+16 \\quad,\\quad 0\\le x\\le 2 \\\\\n",
        "y(0) = 3\\qquad y(2)=7\n",
        "$$"
      ],
      "metadata": {
        "id": "QFHRqpEZejx8"
      }
    },
    {
      "cell_type": "code",
      "source": [
        "x = sym.Symbol('x')\n",
        "y = sym.Function('y')\n",
        "RHS =  2*y(x).diff(x,2)+y(x).diff(x)+4*y(x)\n",
        "LHS = 4*x**2+2*x+16\n",
        "ode = sym.Eq( RHS , LHS)\n",
        "sol = sym.dsolve(ode,y(x),ics={y(0):3,y(2):7})\n",
        "sol"
      ],
      "metadata": {
        "colab": {
          "base_uri": "https://localhost:8080/",
          "height": 59
        },
        "id": "dM0UOeXEeWd_",
        "outputId": "cbf423ab-56ee-4897-b2db-0fd1bbc9aac4"
      },
      "execution_count": null,
      "outputs": [
        {
          "output_type": "execute_result",
          "data": {
            "text/plain": [
              "Eq(y(x), x**2 + 3)"
            ],
            "text/latex": "$\\displaystyle y{\\left(x \\right)} = x^{2} + 3$"
          },
          "metadata": {},
          "execution_count": 67
        }
      ]
    },
    {
      "cell_type": "markdown",
      "source": [
        "# System of equations"
      ],
      "metadata": {
        "id": "9ta5w01RPnNG"
      }
    },
    {
      "cell_type": "markdown",
      "source": [
        "$$\n",
        "\\frac{dx}{dt} = 2x+4y\\\\\n",
        "\\frac{dy}{dt} = 6x+4y\\\\\n",
        "x(0) = 1, y(0) = 2\\\\\n",
        "$$"
      ],
      "metadata": {
        "id": "6FG3oZqzPp75"
      }
    },
    {
      "cell_type": "code",
      "source": [
        "t = sym.Symbol('t')\n",
        "x = sym.Function('x')\n",
        "y = sym.Function('y')\n",
        "\n",
        "eq1 = sym.Eq(x(t).diff(t), 2*x(t)+4*y(t))\n",
        "eq2 = sym.Eq(y(t).diff(t), 6*x(t)+4*y(t))\n",
        "print(eq1)\n",
        "print(eq2)"
      ],
      "metadata": {
        "id": "te1COTqZfjDR",
        "colab": {
          "base_uri": "https://localhost:8080/"
        },
        "outputId": "dcdac802-babc-4e0e-d17e-561f4c52efd8"
      },
      "execution_count": 2,
      "outputs": [
        {
          "output_type": "stream",
          "name": "stdout",
          "text": [
            "Eq(Derivative(x(t), t), 2*x(t) + 4*y(t))\n",
            "Eq(Derivative(y(t), t), 6*x(t) + 4*y(t))\n"
          ]
        }
      ]
    },
    {
      "cell_type": "code",
      "source": [
        "ode = [eq1,eq2]\n",
        "cons = {x(0):1,y(0):2}\n",
        "sym.dsolve(ode,[x(t),y(t)],ics=cons)"
      ],
      "metadata": {
        "colab": {
          "base_uri": "https://localhost:8080/"
        },
        "id": "pGootWo4QuGh",
        "outputId": "536b40f4-da8c-4725-ba50-79028bed161d"
      },
      "execution_count": 3,
      "outputs": [
        {
          "output_type": "execute_result",
          "data": {
            "text/plain": [
              "[Eq(x(t), 6*exp(8*t)/5 - exp(-2*t)/5), Eq(y(t), 9*exp(8*t)/5 + exp(-2*t)/5)]"
            ]
          },
          "metadata": {},
          "execution_count": 3
        }
      ]
    },
    {
      "cell_type": "code",
      "source": [],
      "metadata": {
        "id": "uvRCcYs5Q_Pd"
      },
      "execution_count": null,
      "outputs": []
    }
  ]
}